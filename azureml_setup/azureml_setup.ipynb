{
 "cells": [
  {
   "cell_type": "markdown",
   "metadata": {},
   "source": [
    "Copyright (c) Microsoft Corporation. All rights reserved.\n",
    "\n",
    "Licensed under the MIT License."
   ]
  },
  {
   "cell_type": "markdown",
   "metadata": {},
   "source": [
    "## Azure ML Environment Setup\n",
    "\n",
    "This notebook shows how to setup a Virtual Network to be used for the communication between Ray head and worker nodes in a multi-node cluster setup. In Azure ML, Ray head and worker nodes are run on Azure ML Compute Targets. For the compute targets to be able to communicate to each other, it is necessary to have this virtual network resource properly setup in your Azure ML resource group.\n",
    "\n",
    "This notebook is based on the example provided [here](https://github.com/Azure/MachineLearningNotebooks/blob/master/how-to-use-azureml/reinforcement-learning/setup/devenv_setup.ipynb)."
   ]
  },
  {
   "cell_type": "markdown",
   "metadata": {},
   "source": [
    "Azure ML SDK version. All notebooks for this lab were tested with the AML SDK in the version below."
   ]
  },
  {
   "cell_type": "code",
   "execution_count": 1,
   "metadata": {},
   "outputs": [
    {
     "name": "stdout",
     "output_type": "stream",
     "text": [
      "Azure Machine Learning SDK Version:  1.17.0\n"
     ]
    }
   ],
   "source": [
    "import azureml.core\n",
    "\n",
    "print(\"Azure Machine Learning SDK Version: \", azureml.core.VERSION)"
   ]
  },
  {
   "cell_type": "markdown",
   "metadata": {},
   "source": [
    "Get a reference to your Azure ML Workspace."
   ]
  },
  {
   "cell_type": "code",
   "execution_count": 2,
   "metadata": {},
   "outputs": [],
   "source": [
    "from azureml.core import Workspace\n",
    "\n",
    "ws = Workspace.from_config()"
   ]
  },
  {
   "cell_type": "markdown",
   "metadata": {},
   "source": [
    "It is assumed that you are running this notebook and all other notebooks for this lab in an Azure ML Compute Instance, in which case the *azure-mgmt-network* package is already available."
   ]
  },
  {
   "cell_type": "code",
   "execution_count": 3,
   "metadata": {},
   "outputs": [],
   "source": [
    "# If you need to install the Azure Networking SDK, uncomment the following line.\n",
    "#!pip install --upgrade azure-mgmt-network"
   ]
  },
  {
   "cell_type": "markdown",
   "metadata": {},
   "source": [
    "Create the Virtual Network resource."
   ]
  },
  {
   "cell_type": "code",
   "execution_count": 4,
   "metadata": {},
   "outputs": [
    {
     "name": "stdout",
     "output_type": "stream",
     "text": [
      "Virtual network created successfully:  {'additional_properties': {}, 'id': '/subscriptions/a6c2a7cc-d67e-4a1a-b765-983f08c0423a/resourceGroups/alvilcek-ml-rg2/providers/Microsoft.Network/virtualNetworks/your_vnet', 'name': 'your_vnet', 'type': 'Microsoft.Network/virtualNetworks', 'location': 'eastus', 'tags': None, 'address_space': <azure.mgmt.network.v2020_06_01.models._models_py3.AddressSpace object at 0x7fb0e59b87f0>, 'dhcp_options': None, 'subnets': [], 'virtual_network_peerings': [], 'resource_guid': '754aab43-22b3-49cc-b5d8-80fe12fd49bc', 'provisioning_state': 'Succeeded', 'enable_ddos_protection': False, 'enable_vm_protection': False, 'ddos_protection_plan': None, 'bgp_communities': None, 'ip_allocations': None, 'etag': 'W/\"401beee2-eb8a-4e11-b55a-9d3a5b108242\"'}\n"
     ]
    }
   ],
   "source": [
    "from azure.mgmt.network import NetworkManagementClient\n",
    "\n",
    "# Virtual network name\n",
    "vnet_name =\"your_vnet\"\n",
    "\n",
    "# Default subnet\n",
    "subnet_name =\"default\"\n",
    "\n",
    "# The Azure subscription you are using\n",
    "subscription_id=ws.subscription_id\n",
    "\n",
    "# The resource group for the reinforcement learning cluster\n",
    "resource_group=ws.resource_group\n",
    "\n",
    "# Azure region of the resource group\n",
    "location=ws.location\n",
    "\n",
    "network_client = NetworkManagementClient(ws._auth_object, subscription_id)\n",
    "\n",
    "async_vnet_creation = network_client.virtual_networks.create_or_update(\n",
    "    resource_group,\n",
    "    vnet_name,\n",
    "    {\n",
    "        'location': location,\n",
    "        'address_space': {\n",
    "            'address_prefixes': ['10.0.0.0/16']\n",
    "        }\n",
    "    }\n",
    ")\n",
    "\n",
    "async_vnet_creation.wait()\n",
    "print(\"Virtual network created successfully: \", async_vnet_creation.result())"
   ]
  },
  {
   "cell_type": "markdown",
   "metadata": {},
   "source": [
    "Setup a Network Security Group resource to open the necessary ports for the Ray cluster communication."
   ]
  },
  {
   "cell_type": "code",
   "execution_count": 5,
   "metadata": {},
   "outputs": [
    {
     "name": "stdout",
     "output_type": "stream",
     "text": [
      "Network security group created successfully: {'additional_properties': {}, 'id': '/subscriptions/a6c2a7cc-d67e-4a1a-b765-983f08c0423a/resourceGroups/alvilcek-ml-rg2/providers/Microsoft.Network/networkSecurityGroups/your_vnet-nsg', 'name': 'your_vnet-nsg', 'type': 'Microsoft.Network/networkSecurityGroups', 'location': 'eastus', 'tags': None, 'security_rules': [<azure.mgmt.network.v2020_06_01.models._models_py3.SecurityRule object at 0x7fb0e499b0b8>], 'default_security_rules': [<azure.mgmt.network.v2020_06_01.models._models_py3.SecurityRule object at 0x7fb0e499b0f0>, <azure.mgmt.network.v2020_06_01.models._models_py3.SecurityRule object at 0x7fb0e499b128>, <azure.mgmt.network.v2020_06_01.models._models_py3.SecurityRule object at 0x7fb0e499b160>, <azure.mgmt.network.v2020_06_01.models._models_py3.SecurityRule object at 0x7fb0e499b198>, <azure.mgmt.network.v2020_06_01.models._models_py3.SecurityRule object at 0x7fb0e499b1d0>, <azure.mgmt.network.v2020_06_01.models._models_py3.SecurityRule object at 0x7fb0e499b208>], 'network_interfaces': None, 'subnets': None, 'flow_logs': None, 'resource_guid': '7677782a-77e2-4c9a-b03b-e42c23f36706', 'provisioning_state': 'Succeeded', 'etag': 'W/\"3f32e896-817a-4640-a7eb-32b1c837d2ea\"'}\n",
      "Subnet created successfully: {'additional_properties': {'type': 'Microsoft.Network/virtualNetworks/subnets'}, 'id': '/subscriptions/a6c2a7cc-d67e-4a1a-b765-983f08c0423a/resourceGroups/alvilcek-ml-rg2/providers/Microsoft.Network/virtualNetworks/your_vnet/subnets/default', 'address_prefix': '10.0.0.0/24', 'address_prefixes': None, 'network_security_group': <azure.mgmt.network.v2020_06_01.models._models_py3.NetworkSecurityGroup object at 0x7fb0e49a8668>, 'route_table': None, 'nat_gateway': None, 'service_endpoints': None, 'service_endpoint_policies': None, 'private_endpoints': None, 'ip_configurations': None, 'ip_configuration_profiles': None, 'ip_allocations': None, 'resource_navigation_links': None, 'service_association_links': None, 'delegations': [], 'purpose': None, 'provisioning_state': 'Succeeded', 'private_endpoint_network_policies': 'Enabled', 'private_link_service_network_policies': 'Enabled', 'name': 'default', 'etag': 'W/\"cb3c543f-1f81-475b-bc46-e267d719005e\"'}\n"
     ]
    }
   ],
   "source": [
    "import azure.mgmt.network.models\n",
    "\n",
    "security_group_name = vnet_name + '-' + \"nsg\"\n",
    "security_rule_name = \"AllowAML\"\n",
    "\n",
    "# Create a network security group\n",
    "nsg_params = azure.mgmt.network.models.NetworkSecurityGroup(\n",
    "    location=location,\n",
    "    security_rules=[\n",
    "        azure.mgmt.network.models.SecurityRule(\n",
    "            name=security_rule_name,\n",
    "            access=azure.mgmt.network.models.SecurityRuleAccess.allow,\n",
    "            description='Reinforcement Learning in Azure Machine Learning rule',\n",
    "            destination_address_prefix='*',\n",
    "            destination_port_range='29876-29877',\n",
    "            direction=azure.mgmt.network.models.SecurityRuleDirection.inbound,\n",
    "            priority=400,\n",
    "            protocol=azure.mgmt.network.models.SecurityRuleProtocol.tcp,\n",
    "            source_address_prefix='BatchNodeManagement',\n",
    "            source_port_range='*'\n",
    "        ),\n",
    "    ],\n",
    ")\n",
    "\n",
    "async_nsg_creation = network_client.network_security_groups.create_or_update(\n",
    "    resource_group,\n",
    "    security_group_name,\n",
    "    nsg_params,\n",
    ")\n",
    "\n",
    "async_nsg_creation.wait() \n",
    "print(\"Network security group created successfully:\", async_nsg_creation.result())\n",
    "\n",
    "network_security_group = network_client.network_security_groups.get(\n",
    "    resource_group,\n",
    "    security_group_name,\n",
    ")\n",
    "\n",
    "# Define a subnet to be created with network security group\n",
    "subnet = azure.mgmt.network.models.Subnet(\n",
    "            id='default',\n",
    "            address_prefix='10.0.0.0/24',\n",
    "            network_security_group=network_security_group\n",
    "            )\n",
    "    \n",
    "# Create subnet on virtual network\n",
    "async_subnet_creation = network_client.subnets.create_or_update(\n",
    "    resource_group_name=resource_group,\n",
    "    virtual_network_name=vnet_name,\n",
    "    subnet_name=subnet_name,\n",
    "    subnet_parameters=subnet\n",
    ")\n",
    "\n",
    "async_subnet_creation.wait()\n",
    "print(\"Subnet created successfully:\", async_subnet_creation.result())"
   ]
  },
  {
   "cell_type": "markdown",
   "metadata": {},
   "source": [
    "Review the virtual network security rules."
   ]
  },
  {
   "cell_type": "code",
   "execution_count": 6,
   "metadata": {},
   "outputs": [
    {
     "name": "stdout",
     "output_type": "stream",
     "text": [
      "INFORMATION: Rule matched with required ports. Subnet: default Rule: AllowAML\n",
      "INFORMATION: Network security group rules for your virtual network are saved in file your_vnet.csv\n"
     ]
    }
   ],
   "source": [
    "import sys, os  \n",
    "sys.path.insert(0, os.path.join(os.getcwd(), './utils'))\n",
    "\n",
    "from networkutils import *\n",
    "\n",
    "check_vnet_security_rules(ws._auth_object, ws.subscription_id, ws.resource_group, vnet_name, True)"
   ]
  }
 ],
 "metadata": {
  "kernelspec": {
   "display_name": "Python 3.6 - AzureML",
   "language": "python",
   "name": "python3-azureml"
  },
  "language_info": {
   "codemirror_mode": {
    "name": "ipython",
    "version": 3
   },
   "file_extension": ".py",
   "mimetype": "text/x-python",
   "name": "python",
   "nbconvert_exporter": "python",
   "pygments_lexer": "ipython3",
   "version": "3.6.9"
  }
 },
 "nbformat": 4,
 "nbformat_minor": 4
}
