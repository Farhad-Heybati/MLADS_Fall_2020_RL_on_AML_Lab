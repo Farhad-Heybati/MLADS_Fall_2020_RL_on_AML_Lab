{
 "cells": [
  {
   "cell_type": "markdown",
   "metadata": {},
   "source": [
    "Copyright (c) Microsoft Corporation. All rights reserved.\n",
    "\n",
    "Licensed under the MIT License."
   ]
  },
  {
   "cell_type": "markdown",
   "metadata": {},
   "source": [
    "### Agent Testing - Single Job Set\n",
    "\n",
    "In this notebook we test the performance of the agent trained with a single job set.\n",
    "\n",
    "We can then compare its performance to the random and shortest-job-first agents in the exploration notebook. Notice that in this case we are using the same job set for all agents.\n",
    "\n",
    "Then we show the performance of the agent for an unseen job set and notice that it performs poorly, almost like a random agent."
   ]
  },
  {
   "cell_type": "markdown",
   "metadata": {},
   "source": [
    "This lab was tested with Ray version 0.8.5. Please make sure you have this version installed in your Compute Instance."
   ]
  },
  {
   "cell_type": "code",
   "execution_count": 1,
   "metadata": {
    "scrolled": true
   },
   "outputs": [
    {
     "name": "stdout",
     "output_type": "stream",
     "text": [
      "Requirement already satisfied: ray[rllib]==0.8.5 in /anaconda/envs/azureml_py36/lib/python3.6/site-packages (0.8.5)\n",
      "Requirement already satisfied: aiohttp in /anaconda/envs/azureml_py36/lib/python3.6/site-packages (from ray[rllib]==0.8.5) (3.7.2)\n",
      "Requirement already satisfied: jsonschema in /anaconda/envs/azureml_py36/lib/python3.6/site-packages (from ray[rllib]==0.8.5) (3.2.0)\n",
      "Requirement already satisfied: numpy>=1.16 in /anaconda/envs/azureml_py36/lib/python3.6/site-packages (from ray[rllib]==0.8.5) (1.18.5)\n",
      "Requirement already satisfied: msgpack<1.0.0,>=0.6.0 in /anaconda/envs/azureml_py36/lib/python3.6/site-packages (from ray[rllib]==0.8.5) (0.6.2)\n",
      "Requirement already satisfied: protobuf>=3.8.0 in /anaconda/envs/azureml_py36/lib/python3.6/site-packages (from ray[rllib]==0.8.5) (3.13.0)\n",
      "Requirement already satisfied: py-spy>=0.2.0 in /anaconda/envs/azureml_py36/lib/python3.6/site-packages (from ray[rllib]==0.8.5) (0.3.3)\n",
      "Requirement already satisfied: colorama in /anaconda/envs/azureml_py36/lib/python3.6/site-packages (from ray[rllib]==0.8.5) (0.4.4)\n",
      "Requirement already satisfied: redis<3.5.0,>=3.3.2 in /anaconda/envs/azureml_py36/lib/python3.6/site-packages (from ray[rllib]==0.8.5) (3.4.1)\n",
      "Requirement already satisfied: click in /anaconda/envs/azureml_py36/lib/python3.6/site-packages (from ray[rllib]==0.8.5) (7.1.2)\n",
      "Requirement already satisfied: google in /anaconda/envs/azureml_py36/lib/python3.6/site-packages (from ray[rllib]==0.8.5) (3.0.0)\n",
      "Requirement already satisfied: filelock in /anaconda/envs/azureml_py36/lib/python3.6/site-packages (from ray[rllib]==0.8.5) (3.0.12)\n",
      "Requirement already satisfied: pyyaml in /anaconda/envs/azureml_py36/lib/python3.6/site-packages (from ray[rllib]==0.8.5) (5.3.1)\n",
      "Requirement already satisfied: grpcio in /anaconda/envs/azureml_py36/lib/python3.6/site-packages (from ray[rllib]==0.8.5) (1.33.2)\n",
      "Requirement already satisfied: tabulate; extra == \"rllib\" in /anaconda/envs/azureml_py36/lib/python3.6/site-packages (from ray[rllib]==0.8.5) (0.8.7)\n",
      "Requirement already satisfied: atari-py; extra == \"rllib\" in /anaconda/envs/azureml_py36/lib/python3.6/site-packages (from ray[rllib]==0.8.5) (0.2.6)\n",
      "Requirement already satisfied: lz4; extra == \"rllib\" in /anaconda/envs/azureml_py36/lib/python3.6/site-packages (from ray[rllib]==0.8.5) (3.1.0)\n",
      "Requirement already satisfied: dm-tree; extra == \"rllib\" in /anaconda/envs/azureml_py36/lib/python3.6/site-packages (from ray[rllib]==0.8.5) (0.1.5)\n",
      "Requirement already satisfied: opencv-python-headless; extra == \"rllib\" in /anaconda/envs/azureml_py36/lib/python3.6/site-packages (from ray[rllib]==0.8.5) (4.3.0.36)\n",
      "Requirement already satisfied: pandas; extra == \"rllib\" in /anaconda/envs/azureml_py36/lib/python3.6/site-packages (from ray[rllib]==0.8.5) (0.25.3)\n",
      "Requirement already satisfied: gym[atari]; extra == \"rllib\" in /anaconda/envs/azureml_py36/lib/python3.6/site-packages (from ray[rllib]==0.8.5) (0.17.3)\n",
      "Requirement already satisfied: tensorboardX; extra == \"rllib\" in /anaconda/envs/azureml_py36/lib/python3.6/site-packages (from ray[rllib]==0.8.5) (2.1)\n",
      "Requirement already satisfied: scipy; extra == \"rllib\" in /anaconda/envs/azureml_py36/lib/python3.6/site-packages (from ray[rllib]==0.8.5) (1.5.2)\n",
      "Requirement already satisfied: async-timeout<4.0,>=3.0 in /anaconda/envs/azureml_py36/lib/python3.6/site-packages (from aiohttp->ray[rllib]==0.8.5) (3.0.1)\n",
      "Requirement already satisfied: chardet<4.0,>=2.0 in /anaconda/envs/azureml_py36/lib/python3.6/site-packages (from aiohttp->ray[rllib]==0.8.5) (3.0.4)\n",
      "Requirement already satisfied: idna-ssl>=1.0; python_version < \"3.7\" in /anaconda/envs/azureml_py36/lib/python3.6/site-packages (from aiohttp->ray[rllib]==0.8.5) (1.1.0)\n",
      "Requirement already satisfied: multidict<7.0,>=4.5 in /anaconda/envs/azureml_py36/lib/python3.6/site-packages (from aiohttp->ray[rllib]==0.8.5) (5.0.0)\n",
      "Requirement already satisfied: typing-extensions>=3.6.5 in /anaconda/envs/azureml_py36/lib/python3.6/site-packages (from aiohttp->ray[rllib]==0.8.5) (3.7.4.3)\n",
      "Requirement already satisfied: yarl<2.0,>=1.0 in /anaconda/envs/azureml_py36/lib/python3.6/site-packages (from aiohttp->ray[rllib]==0.8.5) (1.6.2)\n",
      "Requirement already satisfied: attrs>=17.3.0 in /anaconda/envs/azureml_py36/lib/python3.6/site-packages (from aiohttp->ray[rllib]==0.8.5) (20.2.0)\n",
      "Requirement already satisfied: importlib-metadata; python_version < \"3.8\" in /anaconda/envs/azureml_py36/lib/python3.6/site-packages (from jsonschema->ray[rllib]==0.8.5) (2.0.0)\n",
      "Requirement already satisfied: setuptools in /anaconda/envs/azureml_py36/lib/python3.6/site-packages (from jsonschema->ray[rllib]==0.8.5) (50.3.0.post20201006)\n",
      "Requirement already satisfied: pyrsistent>=0.14.0 in /anaconda/envs/azureml_py36/lib/python3.6/site-packages (from jsonschema->ray[rllib]==0.8.5) (0.17.3)\n",
      "Requirement already satisfied: six>=1.11.0 in /anaconda/envs/azureml_py36/lib/python3.6/site-packages (from jsonschema->ray[rllib]==0.8.5) (1.15.0)\n",
      "Requirement already satisfied: beautifulsoup4 in /anaconda/envs/azureml_py36/lib/python3.6/site-packages (from google->ray[rllib]==0.8.5) (4.9.3)\n",
      "Requirement already satisfied: python-dateutil>=2.6.1 in /anaconda/envs/azureml_py36/lib/python3.6/site-packages (from pandas; extra == \"rllib\"->ray[rllib]==0.8.5) (2.8.1)\n",
      "Requirement already satisfied: pytz>=2017.2 in /anaconda/envs/azureml_py36/lib/python3.6/site-packages (from pandas; extra == \"rllib\"->ray[rllib]==0.8.5) (2020.1)\n",
      "Requirement already satisfied: cloudpickle<1.7.0,>=1.2.0 in /anaconda/envs/azureml_py36/lib/python3.6/site-packages (from gym[atari]; extra == \"rllib\"->ray[rllib]==0.8.5) (1.6.0)\n",
      "Requirement already satisfied: pyglet<=1.5.0,>=1.4.0 in /anaconda/envs/azureml_py36/lib/python3.6/site-packages (from gym[atari]; extra == \"rllib\"->ray[rllib]==0.8.5) (1.5.0)\n",
      "Requirement already satisfied: opencv-python; extra == \"atari\" in /anaconda/envs/azureml_py36/lib/python3.6/site-packages (from gym[atari]; extra == \"rllib\"->ray[rllib]==0.8.5) (4.4.0.44)\n",
      "Requirement already satisfied: Pillow; extra == \"atari\" in /anaconda/envs/azureml_py36/lib/python3.6/site-packages (from gym[atari]; extra == \"rllib\"->ray[rllib]==0.8.5) (6.2.1)\n",
      "Requirement already satisfied: idna>=2.0 in /anaconda/envs/azureml_py36/lib/python3.6/site-packages (from idna-ssl>=1.0; python_version < \"3.7\"->aiohttp->ray[rllib]==0.8.5) (2.10)\n",
      "Requirement already satisfied: zipp>=0.5 in /anaconda/envs/azureml_py36/lib/python3.6/site-packages (from importlib-metadata; python_version < \"3.8\"->jsonschema->ray[rllib]==0.8.5) (3.4.0)\n",
      "Requirement already satisfied: soupsieve>1.2; python_version >= \"3.0\" in /anaconda/envs/azureml_py36/lib/python3.6/site-packages (from beautifulsoup4->google->ray[rllib]==0.8.5) (2.0.1)\n",
      "Requirement already satisfied: future in /anaconda/envs/azureml_py36/lib/python3.6/site-packages (from pyglet<=1.5.0,>=1.4.0->gym[atari]; extra == \"rllib\"->ray[rllib]==0.8.5) (0.18.2)\n"
     ]
    }
   ],
   "source": [
    "!pip install ray[rllib]==0.8.5"
   ]
  },
  {
   "cell_type": "markdown",
   "metadata": {},
   "source": [
    "Import the necessary packages."
   ]
  },
  {
   "cell_type": "code",
   "execution_count": 2,
   "metadata": {},
   "outputs": [],
   "source": [
    "import sys, os  \n",
    "sys.path.insert(0, os.path.join(os.getcwd(), '../agent_training/training_scripts/environment'))\n",
    "os.environ.setdefault('PYTHONPATH', os.path.join(os.getcwd(), '../agent_training/training_scripts/environment'))\n",
    "\n",
    "import ray\n",
    "import ray.rllib.agents.pg as pg\n",
    "from ray.rllib.models.torch.torch_modelv2 import TorchModelV2\n",
    "from ray.rllib.models import ModelCatalog\n",
    "from ray.rllib.utils.annotations import override\n",
    "from ray.tune.registry import register_env\n",
    "\n",
    "import gym\n",
    "from gym import spaces\n",
    "from environment import Parameters, Env\n",
    "\n",
    "import torch\n",
    "import torch.nn as nn\n",
    "\n",
    "import numpy as np"
   ]
  },
  {
   "cell_type": "markdown",
   "metadata": {},
   "source": [
    "Here we define the RL environment class according to the Gym specification in the same way that was done in the agent training script. The difference is that here we add two new methods, *observe* and *plot_state_img*, allowing us to visualize the states of the environment as the agent acts.\n",
    "\n",
    "Details about how to work with custom environment in RLLib can be found [here](https://docs.ray.io/en/master/rllib-env.html#configuring-environments).\n",
    "\n",
    "We also introduce a new parameter to the environment constructor, *unseen*, which is a flag telling the environment to use unseen job sets, meaning job sets different than the ones used for training."
   ]
  },
  {
   "cell_type": "code",
   "execution_count": 3,
   "metadata": {},
   "outputs": [],
   "source": [
    "class CustomEnv(gym.Env):\n",
    "    def __init__(self, env_config):\n",
    "        simu_len = env_config['simu_len']\n",
    "        num_ex = env_config['num_ex']\n",
    "        unseen = env_config['unseen']\n",
    "        \n",
    "        pa = Parameters()\n",
    "        pa.simu_len = simu_len\n",
    "        pa.num_ex = num_ex\n",
    "        pa.unseen = unseen\n",
    "        pa.compute_dependent_parameters()\n",
    "        \n",
    "        self.env = Env(pa, render=False, repre='image')\n",
    "        self.action_space = spaces.Discrete(n=pa.num_nw + 1)\n",
    "        self.observation_space = spaces.Box(low=0, high=1, shape=self.env.observe().shape, dtype=np.float)\n",
    "    \n",
    "    def reset(self):\n",
    "        self.env.reset()\n",
    "        obs = self.env.observe()\n",
    "        return obs\n",
    "    \n",
    "    def step(self, action):\n",
    "        next_obs, reward, done, info = self.env.step(action)\n",
    "        info = {}\n",
    "        return next_obs, reward, done, info\n",
    "    \n",
    "    def observe(self):\n",
    "        return self.env.observe()\n",
    "    \n",
    "    def plot_state_img(self):\n",
    "        return self.env.plot_state_img()"
   ]
  },
  {
   "cell_type": "markdown",
   "metadata": {},
   "source": [
    "Define the RL environment constructor and register it for use in RLLib."
   ]
  },
  {
   "cell_type": "code",
   "execution_count": 4,
   "metadata": {},
   "outputs": [],
   "source": [
    "def env_creator(env_config):\n",
    "    return CustomEnv(env_config)\n",
    "\n",
    "register_env('CustomEnv', env_creator)"
   ]
  },
  {
   "cell_type": "markdown",
   "metadata": {},
   "source": [
    "Here we define the custom model for the agent policy. RLLib supports both TensorFlow and PyTorch and here we are using the PyTorch interfaces.\n",
    "\n",
    "The policy model is a simple 2-layer feedforward neural network that maps the environment observation array into one of possible 6 actions. It also defines a value function network as a branch of the policy network, to output a single scalar value representing the expected sum of rewards. This value can be used as the baseline for the policy gradient algorithm.\n",
    "\n",
    "More details about how to work with custom policy models with PyTorch in RLLib can be found [here](https://docs.ray.io/en/master/rllib-models.html#pytorch-models)."
   ]
  },
  {
   "cell_type": "code",
   "execution_count": 5,
   "metadata": {},
   "outputs": [],
   "source": [
    "class CustomModel(TorchModelV2, nn.Module):\n",
    "    def __init__(self, obs_space, action_space, num_outputs, model_config, name):\n",
    "        TorchModelV2.__init__(self, obs_space, action_space, num_outputs, model_config, name)\n",
    "        nn.Module.__init__(self)\n",
    "        \n",
    "        self.hidden_layers = nn.Sequential(nn.Linear(20*124, 32), nn.ReLU(),\n",
    "                                           nn.Linear(32, 16), nn.ReLU())\n",
    "        \n",
    "        self.logits = nn.Sequential(nn.Linear(16, 6))\n",
    "        \n",
    "        self.value_branch = nn.Sequential(nn.Linear(16, 1))\n",
    "\n",
    "    @override(TorchModelV2)\n",
    "    def forward(self, input_dict, state, seq_lens):\n",
    "        obs = input_dict['obs'].float()\n",
    "        obs = obs.view(obs.shape[0], 1, obs.shape[1], obs.shape[2])\n",
    "        obs = obs.view(obs.shape[0], obs.shape[1] * obs.shape[2] * obs.shape[3])\n",
    "        self.features = self.hidden_layers(obs)\n",
    "        actions = self.logits(self.features)\n",
    "        \n",
    "        return actions, state\n",
    "    \n",
    "    @override(TorchModelV2)\n",
    "    def value_function(self):\n",
    "        return self.value_branch(self.features).squeeze(1)"
   ]
  },
  {
   "cell_type": "markdown",
   "metadata": {},
   "source": [
    "Now we register the custom policy model for use in RLLib."
   ]
  },
  {
   "cell_type": "code",
   "execution_count": 6,
   "metadata": {},
   "outputs": [],
   "source": [
    "ModelCatalog.register_custom_model('CustomModel', CustomModel)"
   ]
  },
  {
   "cell_type": "markdown",
   "metadata": {},
   "source": [
    "Here we create a copy of the default Policy Gradient configuration in RLLib and set the relevant parameters for testing a trained agent. In this case we only need the parameters related to the custom model and to our environment."
   ]
  },
  {
   "cell_type": "code",
   "execution_count": 7,
   "metadata": {},
   "outputs": [],
   "source": [
    "config = pg.DEFAULT_CONFIG\n",
    "my_config = config.copy()\n",
    "\n",
    "my_params = {\n",
    "    'use_pytorch' : True,\n",
    "    'model': {'custom_model': 'CustomModel'},\n",
    "    'env': 'CustomEnv',\n",
    "    'env_config': {'simu_len': 50, 'num_ex': 1, 'unseen': False}\n",
    "}\n",
    "\n",
    "for key, value in my_params.items():\n",
    "    my_config[key] = value"
   ]
  },
  {
   "cell_type": "markdown",
   "metadata": {},
   "source": [
    "Initialize the Ray backend. Here we run Ray locally."
   ]
  },
  {
   "cell_type": "code",
   "execution_count": 8,
   "metadata": {
    "scrolled": true
   },
   "outputs": [
    {
     "name": "stderr",
     "output_type": "stream",
     "text": [
      "2020-11-10 19:10:37,416\tINFO resource_spec.py:212 -- Starting Ray with 27.98 GiB memory available for workers and up to 14.0 GiB for objects. You can adjust these settings with ray.init(memory=<bytes>, object_store_memory=<bytes>).\n",
      "2020-11-10 19:10:37,530\tWARNING services.py:928 -- Redis failed to start, retrying now.\n",
      "2020-11-10 19:10:38,081\tINFO services.py:1170 -- View the Ray dashboard at \u001b[1m\u001b[32mlocalhost:8265\u001b[39m\u001b[22m\n"
     ]
    },
    {
     "data": {
      "text/plain": [
       "{'node_ip_address': '10.0.0.5',\n",
       " 'raylet_ip_address': '10.0.0.5',\n",
       " 'redis_address': '10.0.0.5:21252',\n",
       " 'object_store_address': '/tmp/ray/session_2020-11-10_19-10-37_414483_36668/sockets/plasma_store',\n",
       " 'raylet_socket_name': '/tmp/ray/session_2020-11-10_19-10-37_414483_36668/sockets/raylet',\n",
       " 'webui_url': 'localhost:8265',\n",
       " 'session_dir': '/tmp/ray/session_2020-11-10_19-10-37_414483_36668'}"
      ]
     },
     "execution_count": 8,
     "metadata": {},
     "output_type": "execute_result"
    }
   ],
   "source": [
    "ray.init()"
   ]
  },
  {
   "cell_type": "markdown",
   "metadata": {},
   "source": [
    "Instantiate the policy gradient trainer object from RLLib."
   ]
  },
  {
   "cell_type": "code",
   "execution_count": 9,
   "metadata": {
    "scrolled": true
   },
   "outputs": [
    {
     "name": "stderr",
     "output_type": "stream",
     "text": [
      "2020-11-10 19:10:38,192\tINFO trainer.py:421 -- Tip: set 'eager': true or the --eager flag to enable TensorFlow eager execution\n",
      "2020-11-10 19:10:38,243\tINFO trainer.py:580 -- Current log_level is WARN. For more information, set 'log_level': 'INFO' / 'DEBUG' or use the -v and -vv flags.\n",
      "2020-11-10 19:10:39,118\tWARNING trainer_template.py:124 -- The experimental distributed execution API is enabled for this algorithm. Disable this by setting 'use_exec_api': False.\n",
      "2020-11-10 19:10:39,119\tINFO trainable.py:217 -- Getting current IP.\n",
      "2020-11-10 19:10:39,120\tWARNING util.py:37 -- Install gputil for GPU system monitoring.\n"
     ]
    }
   ],
   "source": [
    "trainer = pg.PGTrainer(config=my_config)"
   ]
  },
  {
   "cell_type": "markdown",
   "metadata": {},
   "source": [
    "We can verify the policy model architecture by getting a reference to the policy object from the trainer and a reference to the model object from the policy."
   ]
  },
  {
   "cell_type": "code",
   "execution_count": 10,
   "metadata": {
    "scrolled": true
   },
   "outputs": [
    {
     "name": "stdout",
     "output_type": "stream",
     "text": [
      "<bound method Module.parameters of CustomModel(\n",
      "  (hidden_layers): Sequential(\n",
      "    (0): Linear(in_features=2480, out_features=32, bias=True)\n",
      "    (1): ReLU()\n",
      "    (2): Linear(in_features=32, out_features=16, bias=True)\n",
      "    (3): ReLU()\n",
      "  )\n",
      "  (logits): Sequential(\n",
      "    (0): Linear(in_features=16, out_features=6, bias=True)\n",
      "  )\n",
      "  (value_branch): Sequential(\n",
      "    (0): Linear(in_features=16, out_features=1, bias=True)\n",
      "  )\n",
      ")>\n"
     ]
    }
   ],
   "source": [
    "policy = trainer.get_policy()\n",
    "model = policy.model\n",
    "print(model.parameters)"
   ]
  },
  {
   "cell_type": "markdown",
   "metadata": {},
   "source": [
    "Here we load the model checkpoint, corresponding to the single job set training, into the trainer."
   ]
  },
  {
   "cell_type": "code",
   "execution_count": 11,
   "metadata": {},
   "outputs": [
    {
     "name": "stderr",
     "output_type": "stream",
     "text": [
      "2020-11-10 19:10:39,379\tINFO trainable.py:217 -- Getting current IP.\n",
      "2020-11-10 19:10:39,380\tINFO trainable.py:423 -- Restored on 10.0.0.5 from checkpoint: ../model_checkpoints/single_jobset/checkpoint-300\n",
      "2020-11-10 19:10:39,380\tINFO trainable.py:430 -- Current state after restoring: {'_iteration': 300, '_timesteps_total': None, '_time_total': 2983.7504589557648, '_episodes_total': 422525}\n"
     ]
    }
   ],
   "source": [
    "checkpoint_path = '../model_checkpoints/single_jobset/checkpoint-300'\n",
    "\n",
    "trainer.restore(checkpoint_path=checkpoint_path)"
   ]
  },
  {
   "cell_type": "markdown",
   "metadata": {},
   "source": [
    "We then perform a rollout of the trained policy into the RL environment, using the same single job set used for training."
   ]
  },
  {
   "cell_type": "code",
   "execution_count": 12,
   "metadata": {
    "scrolled": false
   },
   "outputs": [
    {
     "data": {
      "image/png": "[encoded data removed]",
      "text/plain": [
       "<Figure size 1152x1152 with 1 Axes>"
      ]
     },
     "metadata": {
      "needs_background": "light"
     },
     "output_type": "display_data"
    }
   ],
   "source": [
    "import numpy as np\n",
    "from IPython import display\n",
    "import matplotlib.pyplot as plt\n",
    "import time\n",
    "from random import randint\n",
    "\n",
    "env = CustomEnv(env_config = my_params['env_config'])\n",
    "\n",
    "img = env.plot_state_img()\n",
    "\n",
    "plt.figure(figsize = (16,16))\n",
    "plt.grid(color='w', linestyle='-', linewidth=0.5)\n",
    "plt.text(2, -2, \"RESOURCES\")\n",
    "plt.text(-4, 10, \"CPU\")\n",
    "plt.text(-4, 30, \"MEM\")\n",
    "plt.text(14, -2, \"JOB QUEUE #1\")\n",
    "plt.text(26, -2, \"JOB QUEUE #2\")\n",
    "plt.text(38, -2, \"JOB QUEUE #3\")\n",
    "plt.text(50, -2, \"JOB QUEUE #4\")\n",
    "plt.text(62, -2, \"JOB QUEUE #5\")\n",
    "plt.text(76, 20, \"BACKLOG\")\n",
    "plt.imshow(img, vmax=1, cmap='CMRmap')\n",
    "ax = plt.gca()\n",
    "ax.set_xticks(np.arange(-.5, 100, 1))\n",
    "ax.set_xticklabels([])\n",
    "ax.set_yticks(np.arange(-.5, 100, 1))\n",
    "ax.set_yticklabels([])\n",
    "ax.tick_params(axis=u'both', which=u'both',length=0)\n",
    "\n",
    "image = plt.imshow(img, vmax=1, cmap='CMRmap')\n",
    "display.display(plt.gcf())\n",
    "\n",
    "actions = []\n",
    "rewards = []\n",
    "done = False\n",
    "s = 0\n",
    "txt1 = plt.text(0, 45, '')\n",
    "txt2 = plt.text(0, 47, '')\n",
    "\n",
    "obs = env.observe()\n",
    "while not done:\n",
    "    a = trainer.compute_action(obs)\n",
    "    actions.append(a)\n",
    "    obs, reward, done, info = env.step(a)\n",
    "    rewards.append(reward)\n",
    "    s += 1\n",
    "    txt1.remove()\n",
    "    txt2.remove()\n",
    "    txt1 = plt.text(0, 44, 'STEPS: ' + str(s), fontsize=14)\n",
    "    txt2 = plt.text(0, 46, 'TOTAL AVERAGE JOB SLOWDOWN: ' + str(round(-sum(rewards))), fontsize=14)\n",
    "    \n",
    "    img = env.plot_state_img()\n",
    "    image.set_data(img)\n",
    "    display.display(plt.gcf())\n",
    "    display.clear_output(wait=True)"
   ]
  },
  {
   "cell_type": "markdown",
   "metadata": {},
   "source": [
    "And finally we perform another rollout of the trained policy, but now using an unseen job set, meaning a job set different from the one used for training. We notice here that the agent is not able to generalize well and its performance is similar to the performance of a random policy.\n",
    "\n",
    "This will be mitigated by training the agent with multiple distinct job sets."
   ]
  },
  {
   "cell_type": "code",
   "execution_count": 13,
   "metadata": {},
   "outputs": [
    {
     "data": {
      "image/png": "[encoded data removed]",
      "text/plain": [
       "<Figure size 1152x1152 with 1 Axes>"
      ]
     },
     "metadata": {
      "needs_background": "light"
     },
     "output_type": "display_data"
    }
   ],
   "source": [
    "import numpy as np\n",
    "from IPython import display\n",
    "import matplotlib.pyplot as plt\n",
    "import time\n",
    "from random import randint\n",
    "\n",
    "env_config = my_params['env_config']\n",
    "env_config['unseen'] = True\n",
    "\n",
    "env = CustomEnv(env_config=env_config)\n",
    "\n",
    "img = env.plot_state_img()\n",
    "\n",
    "plt.figure(figsize = (16,16))\n",
    "plt.grid(color='w', linestyle='-', linewidth=0.5)\n",
    "plt.text(2, -2, \"RESOURCES\")\n",
    "plt.text(-4, 10, \"CPU\")\n",
    "plt.text(-4, 30, \"MEM\")\n",
    "plt.text(14, -2, \"JOB QUEUE #1\")\n",
    "plt.text(26, -2, \"JOB QUEUE #2\")\n",
    "plt.text(38, -2, \"JOB QUEUE #3\")\n",
    "plt.text(50, -2, \"JOB QUEUE #4\")\n",
    "plt.text(62, -2, \"JOB QUEUE #5\")\n",
    "plt.text(76, 20, \"BACKLOG\")\n",
    "plt.imshow(img, vmax=1, cmap='CMRmap')\n",
    "ax = plt.gca()\n",
    "ax.set_xticks(np.arange(-.5, 100, 1))\n",
    "ax.set_xticklabels([])\n",
    "ax.set_yticks(np.arange(-.5, 100, 1))\n",
    "ax.set_yticklabels([])\n",
    "ax.tick_params(axis=u'both', which=u'both',length=0)\n",
    "\n",
    "image = plt.imshow(img, vmax=1, cmap='CMRmap')\n",
    "display.display(plt.gcf())\n",
    "\n",
    "actions = []\n",
    "rewards = []\n",
    "done = False\n",
    "s = 0\n",
    "txt1 = plt.text(0, 45, '')\n",
    "txt2 = plt.text(0, 47, '')\n",
    "\n",
    "obs = env.observe()\n",
    "while not done:\n",
    "    a = trainer.compute_action(obs)\n",
    "    actions.append(a)\n",
    "    obs, reward, done, info = env.step(a)\n",
    "    rewards.append(reward)\n",
    "    s += 1\n",
    "    txt1.remove()\n",
    "    txt2.remove()\n",
    "    txt1 = plt.text(0, 44, 'STEPS: ' + str(s), fontsize=14)\n",
    "    txt2 = plt.text(0, 46, 'TOTAL AVERAGE JOB SLOWDOWN: ' + str(round(-sum(rewards))), fontsize=14)\n",
    "    \n",
    "    img = env.plot_state_img()\n",
    "    image.set_data(img)\n",
    "    display.display(plt.gcf())\n",
    "    display.clear_output(wait=True)"
   ]
  },
  {
   "cell_type": "markdown",
   "metadata": {},
   "source": [
    "Shutdown the Ray backend."
   ]
  },
  {
   "cell_type": "code",
   "execution_count": 14,
   "metadata": {},
   "outputs": [],
   "source": [
    "ray.shutdown()"
   ]
  }
 ],
 "metadata": {
  "kernelspec": {
   "display_name": "Python 3.6 - AzureML",
   "language": "python",
   "name": "python3-azureml"
  },
  "language_info": {
   "codemirror_mode": {
    "name": "ipython",
    "version": 3
   },
   "file_extension": ".py",
   "mimetype": "text/x-python",
   "name": "python",
   "nbconvert_exporter": "python",
   "pygments_lexer": "ipython3",
   "version": "3.6.9"
  }
 },
 "nbformat": 4,
 "nbformat_minor": 4
}
