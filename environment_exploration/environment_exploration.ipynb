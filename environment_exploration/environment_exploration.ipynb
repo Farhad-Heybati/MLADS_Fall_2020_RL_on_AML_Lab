{
 "cells": [
  {
   "cell_type": "markdown",
   "metadata": {},
   "source": [
    "Copyright (c) Microsoft Corporation. All rights reserved.\n",
    "\n",
    "Licensed under the MIT License."
   ]
  },
  {
   "cell_type": "markdown",
   "metadata": {},
   "source": [
    "## Environment Exploration\n",
    "\n",
    "The use case explored in this lab is about resource allocation. The idea is to train a reinforcement learning agent that learns to make optimal decisions, acting as a resource manager with the goal of minimizing the average job execution slowdown.\n",
    "\n",
    "In this notebook we will explore the reinforcement learning environment used to simulate the resource allocation use case.\n",
    "The environment exposes to the agent:\n",
    "-\tFive job slots, each one representing a job waiting to be scheduled to run at any point in time. The job representation includes the amount of each resource needed (horizontal axis) and the job duration (vertical axis).\n",
    "-\tOne backlog queue, representing the number of jobs waiting to be placed in one of the job slots.\n",
    "-\tTwo resources to execute jobs.\n",
    "\n",
    "The environment accepts the following integer values as commands:\n",
    "-\tJob slot index (0,1,2,3,4 in our case), which attempts to place the job at the corresponding job slot given by its index into the resource slot for execution.\n",
    "-\tDo nothing (5 in our case).\n",
    "\n",
    "The observed reward, at each time step, corresponds to the (negative) cumulative average job slowdown observed so far. Being negative makes the reinforcement learning objective easier to compute: maximizing the sum of expected rewards corresponds to minimizing the cumulative average job slowdown.\n",
    "\n",
    "The agent is also penalized when there are no more job slots available and jobs start to be placed into the job queue. But it is not penalized when it attempts to execute an invalid command (e.g. attempting to place a job to be executed that doesn’t fit the resource slots). And when it successfully places a job to be executed in the resource slots, it observes a reward of 0.\n",
    "\n",
    "I also suggest you refer to the [paper](https://www.microsoft.com/en-us/research/wp-content/uploads/2017/01/deeprm_hotnets16.pdf) from which this environment is based, where you find important details about its design."
   ]
  },
  {
   "cell_type": "markdown",
   "metadata": {},
   "source": [
    "The cell below allows you to interact with the environment, step-by-step. The allowed commands were modified to make the interaction easier: 0 corresponds to do nothing, and 1 to 5 to the corresponding job slots.\n",
    "\n",
    "At the end of the simulation, you see the number of steps (commands executed) and the accumulated average job slowdown in the simulation cycle."
   ]
  },
  {
   "cell_type": "code",
   "execution_count": 1,
   "metadata": {
    "scrolled": false
   },
   "outputs": [
    {
     "name": "stdout",
     "output_type": "stream",
     "text": [
      "End\n",
      "Steps: 70 \n",
      "Total Average Job Slowdown: 160\n"
     ]
    },
    {
     "data": {
      "image/png": "[encoded data removed]",
      "text/plain": [
       "<Figure size 1152x1152 with 1 Axes>"
      ]
     },
     "metadata": {
      "needs_background": "light"
     },
     "output_type": "display_data"
    }
   ],
   "source": [
    "import numpy as np\n",
    "from IPython import display\n",
    "import matplotlib.pyplot as plt\n",
    "import time\n",
    "from random import randint\n",
    "\n",
    "import sys, os  \n",
    "sys.path.insert(0, os.path.join(os.getcwd(), '../agent_training/training_scripts/environment'))\n",
    "\n",
    "from environment import Parameters, Env\n",
    "\n",
    "pa = Parameters()\n",
    "\n",
    "pa.simu_len = 50             # length of the simulation (corresponds to the number of steps executed in the resource slots)\n",
    "pa.num_ex = 1                # number of job sets (unique sequences of jobs using across simulation cycles)\n",
    "\n",
    "# default values for other parameters\n",
    "pa.episode_max_length = 200  # enforcing an artificial terminal\n",
    "pa.max_track_since_new = 10  # track how many time steps since last new jobs\n",
    "pa.job_num_cap = 40          # maximum number of distinct colors in current work graph\n",
    "pa.new_job_rate = 0.7        # lambda in new job arrival Poisson Process\n",
    "\n",
    "\"\"\"\n",
    "default values for other parameters\n",
    "please notice that the visualization function is not prepared to render the environment with other values\n",
    "than the default values below\n",
    "\"\"\"\n",
    "pa.num_res = 2               # number of resources in the system\n",
    "pa.num_nw = 5                # maximum allowed number of work in the queue\n",
    "pa.time_horizon = 20         # number of time steps in the graph\n",
    "pa.max_job_len = 15          # maximum duration of new jobs\n",
    "pa.res_slot = 10             # maximum number of available resource slots\n",
    "pa.max_job_size = 10         # maximum resource request of new work\n",
    "pa.backlog_size = 60         # backlog queue size\n",
    "\n",
    "pa.compute_dependent_parameters()\n",
    "    \n",
    "env = Env(pa, render=False, repre='image')\n",
    "\n",
    "img = env.plot_state_img()\n",
    "\n",
    "plt.figure(figsize = (16,16))\n",
    "plt.grid(color='w', linestyle='-', linewidth=0.5)\n",
    "plt.text(0, -2, \"EXECUTION QUEUE\")\n",
    "plt.text(-8, 10, \"RESOURCE #1\")\n",
    "plt.text(-8, 30, \"RESOURCE #2\")\n",
    "plt.text(14, -2, \"JOB SLOT #1\")\n",
    "plt.text(26, -2, \"JOB SLOT #2\")\n",
    "plt.text(38, -2, \"JOB SLOT #3\")\n",
    "plt.text(50, -2, \"JOB SLOT #4\")\n",
    "plt.text(62, -2, \"JOB SLOT #5\")\n",
    "plt.text(76, 20, \"BACKLOG\")\n",
    "plt.imshow(img, vmax=1, cmap='CMRmap')\n",
    "ax = plt.gca()\n",
    "ax.set_xticks(np.arange(-.5, 100, 1))\n",
    "ax.set_xticklabels([])\n",
    "ax.set_yticks(np.arange(-.5, 100, 1))\n",
    "ax.set_yticklabels([])\n",
    "ax.tick_params(axis=u'both', which=u'both',length=0)\n",
    "\n",
    "image = plt.imshow(img, vmax=1, cmap='CMRmap')\n",
    "display.display(plt.gcf())\n",
    "\n",
    "actions = []\n",
    "rewards = []\n",
    "done = False\n",
    "s = 0\n",
    "while not done:\n",
    "    \n",
    "    while True:\n",
    "        key = input('Enter action (0 - 5) to step into the environment\\n')\n",
    "        if key in ['0', '1', '2', '3', '4', '5']:\n",
    "            if key == '0':\n",
    "                a = 5\n",
    "            else:\n",
    "                a = int(key) - 1\n",
    "            break\n",
    "        else:\n",
    "            print('\\nInvalid action')\n",
    "    \n",
    "    actions.append(a)\n",
    "    obs, reward, done, info = env.step(a)\n",
    "    rewards.append(reward)\n",
    "    \n",
    "    if a != 5:\n",
    "        print('Action executed: run job at queue#', a+1)\n",
    "    else:\n",
    "        print('Action executed: do nothing')\n",
    "    print('Reward obtained:', reward)\n",
    "    print('Total rewards:', sum(rewards))\n",
    "    \n",
    "    s += 1\n",
    "    print('Step:', s)\n",
    "    \n",
    "    img = env.plot_state_img()\n",
    "    image.set_data(img)\n",
    "    display.display(plt.gcf())\n",
    "    display.clear_output(wait=True)\n",
    "\n",
    "print('End')\n",
    "print('Steps:', s, '\\nTotal Average Job Slowdown:', round(-sum(rewards)))"
   ]
  },
  {
   "cell_type": "markdown",
   "metadata": {},
   "source": [
    "The cell below shows you how a random policy behaves in this environment."
   ]
  },
  {
   "cell_type": "code",
   "execution_count": 5,
   "metadata": {},
   "outputs": [
    {
     "data": {
      "image/png": "[encoded data removed]",
      "text/plain": [
       "<Figure size 1152x1152 with 1 Axes>"
      ]
     },
     "metadata": {
      "needs_background": "light"
     },
     "output_type": "display_data"
    }
   ],
   "source": [
    "import numpy as np\n",
    "from IPython import display\n",
    "import matplotlib.pyplot as plt\n",
    "import time\n",
    "from random import randint\n",
    "\n",
    "import sys, os  \n",
    "sys.path.insert(0, os.path.join(os.getcwd(), '../agent_training/training_scripts/environment'))\n",
    "\n",
    "from environment import Parameters, Env\n",
    "\n",
    "pa = Parameters()\n",
    "pa.simu_len = 50\n",
    "pa.num_ex = 1\n",
    "pa.compute_dependent_parameters()\n",
    "    \n",
    "env = Env(pa, render=False, repre='image')\n",
    "\n",
    "img = env.plot_state_img()\n",
    "\n",
    "plt.figure(figsize = (16,16))\n",
    "plt.grid(color='w', linestyle='-', linewidth=0.5)\n",
    "plt.text(0, -2, \"EXECUTION QUEUE\")\n",
    "plt.text(-8, 10, \"RESOURCE #1\")\n",
    "plt.text(-8, 30, \"RESOURCE #2\")\n",
    "plt.text(14, -2, \"JOB SLOT #1\")\n",
    "plt.text(26, -2, \"JOB SLOT #2\")\n",
    "plt.text(38, -2, \"JOB SLOT #3\")\n",
    "plt.text(50, -2, \"JOB SLOT #4\")\n",
    "plt.text(62, -2, \"JOB SLOT #5\")\n",
    "plt.text(76, 20, \"BACKLOG\")\n",
    "plt.imshow(img, vmax=1, cmap='CMRmap')\n",
    "ax = plt.gca()\n",
    "ax.set_xticks(np.arange(-.5, 100, 1))\n",
    "ax.set_xticklabels([])\n",
    "ax.set_yticks(np.arange(-.5, 100, 1))\n",
    "ax.set_yticklabels([])\n",
    "ax.tick_params(axis=u'both', which=u'both',length=0)\n",
    "\n",
    "image = plt.imshow(img, vmax=1, cmap='CMRmap')\n",
    "display.display(plt.gcf())\n",
    "\n",
    "actions = []\n",
    "rewards = []\n",
    "done = False\n",
    "s=0\n",
    "txt1 = plt.text(0, 45, '')\n",
    "txt2 = plt.text(0, 47, '')\n",
    "\n",
    "while not done:\n",
    "    a = randint(0, pa.num_nw)\n",
    "    actions.append(a)\n",
    "    obs, reward, done, info = env.step(a)\n",
    "    rewards.append(reward)\n",
    "    s += 1\n",
    "    \n",
    "    txt1.remove()\n",
    "    txt2.remove()\n",
    "    txt1 = plt.text(0, 44, 'STEPS: ' + str(s), fontsize=14)\n",
    "    txt2 = plt.text(0, 46, 'TOTAL AVERAGE JOB SLOWDOWN: ' + str(round(-sum(rewards))), fontsize=14)\n",
    "    img = env.plot_state_img()\n",
    "    image.set_data(img)\n",
    "    display.display(plt.gcf())\n",
    "    display.clear_output(wait=True)"
   ]
  },
  {
   "cell_type": "markdown",
   "metadata": {},
   "source": [
    "In the cell below, you see how a heuristics-based policy behaves in this environment. In this case, we are using the shortest-job-first heuristic."
   ]
  },
  {
   "cell_type": "code",
   "execution_count": 6,
   "metadata": {},
   "outputs": [
    {
     "data": {
      "image/png": "[encoded data removed]",
      "text/plain": [
       "<Figure size 1152x1152 with 1 Axes>"
      ]
     },
     "metadata": {
      "needs_background": "light"
     },
     "output_type": "display_data"
    }
   ],
   "source": [
    "import numpy as np\n",
    "from IPython import display\n",
    "import matplotlib.pyplot as plt\n",
    "import time\n",
    "from random import randint\n",
    "\n",
    "import sys, os  \n",
    "sys.path.insert(0, os.path.join(os.getcwd(), '../agent_training/training_scripts/environment'))\n",
    "\n",
    "from environment import Parameters, Env\n",
    "\n",
    "def get_sjf_action(machine, job_slot):\n",
    "    sjf_score = 0\n",
    "    act = len(job_slot.slot)  # if no action available, hold\n",
    "\n",
    "    for i in range(len(job_slot.slot)):\n",
    "        new_job = job_slot.slot[i]\n",
    "        if new_job is not None:  # there is a pending job\n",
    "\n",
    "            avbl_res = machine.avbl_slot[:new_job.len, :]\n",
    "            res_left = avbl_res - new_job.res_vec\n",
    "\n",
    "            if np.all(res_left[:] >= 0):  # enough resource to allocate\n",
    "\n",
    "                tmp_sjf_score = 1 / float(new_job.len)\n",
    "\n",
    "                if tmp_sjf_score > sjf_score:\n",
    "                    sjf_score = tmp_sjf_score\n",
    "                    act = i\n",
    "    return act\n",
    "\n",
    "pa = Parameters()\n",
    "pa.simu_len = 50\n",
    "pa.num_ex = 1\n",
    "pa.compute_dependent_parameters()\n",
    "    \n",
    "env = Env(pa, render=False, repre='image')\n",
    "\n",
    "img = env.plot_state_img()\n",
    "\n",
    "plt.figure(figsize = (16,16))\n",
    "plt.grid(color='w', linestyle='-', linewidth=0.5)\n",
    "plt.text(0, -2, \"EXECUTION QUEUE\")\n",
    "plt.text(-8, 10, \"RESOURCE #1\")\n",
    "plt.text(-8, 30, \"RESOURCE #2\")\n",
    "plt.text(14, -2, \"JOB SLOT #1\")\n",
    "plt.text(26, -2, \"JOB SLOT #2\")\n",
    "plt.text(38, -2, \"JOB SLOT #3\")\n",
    "plt.text(50, -2, \"JOB SLOT #4\")\n",
    "plt.text(62, -2, \"JOB SLOT #5\")\n",
    "plt.text(76, 20, \"BACKLOG\")\n",
    "plt.imshow(img, vmax=1, cmap='CMRmap')\n",
    "ax = plt.gca()\n",
    "ax.set_xticks(np.arange(-.5, 100, 1))\n",
    "ax.set_xticklabels([])\n",
    "ax.set_yticks(np.arange(-.5, 100, 1))\n",
    "ax.set_yticklabels([])\n",
    "ax.tick_params(axis=u'both', which=u'both',length=0)\n",
    "\n",
    "image = plt.imshow(img, vmax=1, cmap='CMRmap')\n",
    "display.display(plt.gcf())\n",
    "\n",
    "actions = []\n",
    "rewards = []\n",
    "done = False\n",
    "s = 0\n",
    "txt1 = plt.text(0, 45, '')\n",
    "txt2 = plt.text(0, 47, '')\n",
    "\n",
    "while not done:\n",
    "    a = get_sjf_action(env.machine, env.job_slot)\n",
    "    actions.append(a)\n",
    "    obs, reward, done, info = env.step(a)\n",
    "    rewards.append(reward)\n",
    "    s += 1\n",
    "    \n",
    "    txt1.remove()\n",
    "    txt2.remove()\n",
    "    txt1 = plt.text(0, 44, 'STEPS: ' + str(s), fontsize=14)\n",
    "    txt2 = plt.text(0, 46, 'TOTAL AVERAGE JOB SLOWDOWN: ' + str(round(-sum(rewards))), fontsize=14)\n",
    "    img = env.plot_state_img()\n",
    "    image.set_data(img)\n",
    "    display.display(plt.gcf())\n",
    "    display.clear_output(wait=True)"
   ]
  }
 ],
 "metadata": {
  "kernelspec": {
   "display_name": "Python 3.6 - AzureML",
   "language": "python",
   "name": "python3-azureml"
  },
  "language_info": {
   "codemirror_mode": {
    "name": "ipython",
    "version": 3
   },
   "file_extension": ".py",
   "mimetype": "text/x-python",
   "name": "python",
   "nbconvert_exporter": "python",
   "pygments_lexer": "ipython3",
   "version": "3.6.9"
  }
 },
 "nbformat": 4,
 "nbformat_minor": 4
}
